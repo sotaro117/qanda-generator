{
 "cells": [
  {
   "cell_type": "markdown",
   "id": "7f11dc70-a223-44b2-a182-d86cf352e1c2",
   "metadata": {},
   "source": [
    "## English task: Building an AI Agent\n",
    "\n",
    "### Objective: the agent works on helping you prepare for exams giving question and proposing solutions based on the materials you provide.\n",
    "!cannot get google classrooms APIs due to restrictions set by school"
   ]
  },
  {
   "cell_type": "code",
   "execution_count": 1,
   "id": "1814386f-4c70-4ea7-9183-22500cd5a0da",
   "metadata": {},
   "outputs": [],
   "source": [
    "%%capture --no-stderr\n",
    "%pip install --quiet -U langgraph langchain_openai langchain_community langchain_core tavily-python wikipedia pypdf langchain_text_splitters"
   ]
  },
  {
   "cell_type": "markdown",
   "id": "9021423e-2f4b-42ea-b1ab-b6156ab55568",
   "metadata": {},
   "source": [
    "## Setup\n",
    "- Setup OpenAI API key\n",
    "- Setup Tavily search API key\n",
    "- Instantiate OpenAI model(`gpt-4o-mini`)\n",
    "- Set into the env langchain settings"
   ]
  },
  {
   "cell_type": "code",
   "execution_count": 2,
   "id": "0983e1a1-cca3-454d-b965-0169290faf52",
   "metadata": {},
   "outputs": [],
   "source": [
    "import os, getpass\n",
    "\n",
    "def _set_env(var: str):\n",
    "    if not os.environ.get(var):\n",
    "        os.environ[var] = getpass.getpass(f\"{var}: \")\n",
    "\n",
    "_set_env(\"OPENAI_API_KEY\")"
   ]
  },
  {
   "cell_type": "code",
   "execution_count": 3,
   "id": "789ef8ed-40bb-4366-b78b-d435b67d2bb4",
   "metadata": {},
   "outputs": [],
   "source": [
    "def _set_env(var: str):\n",
    "    if not os.environ.get(var):\n",
    "        os.environ[var] = getpass.getpass(f\"{var}: \")\n",
    "\n",
    "_set_env(\"TAVILY_API_KEY\")"
   ]
  },
  {
   "cell_type": "code",
   "execution_count": 4,
   "id": "281d1ac3-216e-4033-b266-8e7893094932",
   "metadata": {},
   "outputs": [],
   "source": [
    "from langchain_openai import ChatOpenAI\n",
    "llm = ChatOpenAI(model=\"gpt-4o-mini\", temperature=0) "
   ]
  },
  {
   "cell_type": "code",
   "execution_count": 5,
   "id": "4f77d6b2-7b6c-45d7-91fa-f14441c92f2c",
   "metadata": {},
   "outputs": [],
   "source": [
    "_set_env(\"LANGCHAIN_API_KEY\")\n",
    "os.environ[\"LANGCHAIN_TRACING_V2\"] = \"true\"\n",
    "os.environ[\"LANGCHAIN_PROJECT\"] = \"class\""
   ]
  },
  {
   "cell_type": "markdown",
   "id": "e8e9b3d7-110d-4efd-83e6-c2b4ba1bbc8c",
   "metadata": {},
   "source": [
    "## Main flow: Generate Q&A sets"
   ]
  },
  {
   "cell_type": "markdown",
   "id": "ee1c1728-f61d-43b8-aa51-5228cc91bab8",
   "metadata": {},
   "source": [
    "### Define classes to call llms with structured output"
   ]
  },
  {
   "cell_type": "code",
   "execution_count": 6,
   "id": "7a6f2792-80c7-4a00-a9b6-afd3822dc04e",
   "metadata": {},
   "outputs": [],
   "source": [
    "from typing import List, Annotated\n",
    "from typing_extensions import TypedDict\n",
    "from pydantic import BaseModel, Field\n",
    "import operator\n",
    "\n",
    "\n",
    "class Prep(BaseModel):\n",
    "    question: str = Field(description=\"Questions for the exam\")\n",
    "    answer: str = Field(description=\"Answer of the generated questions\")\n",
    "    explanation: str = Field(description=\"Explanation about the answer\")\n",
    "\n",
    "    @property\n",
    "    def qas(self) -> str:\n",
    "        return f\"Question: {self.question}\\nAnswer: {self.answer}\\nExplanation:{self.explanation}\\n\"\n",
    "\n",
    "\n",
    "# Graph state\n",
    "class State(TypedDict):\n",
    "    subject: str\n",
    "    pdf_file: str\n",
    "    preps: List[Prep]\n",
    "    context: Annotated[list, operator.add]\n",
    "    human_feedback: str\n",
    "    num: int\n",
    "\n",
    "\n",
    "class Perspectives(BaseModel):\n",
    "    preps: List[Prep] = Field(\n",
    "        description=\"Comprehensive list of Q&As with explanations.\"\n",
    "    )\n",
    "\n",
    "\n",
    "class SearchQuery(BaseModel):\n",
    "    search_query: str = Field(description=\"Search query for retrieval.\")"
   ]
  },
  {
   "cell_type": "markdown",
   "id": "8e19d27d-3220-426c-9398-65a161e4ac40",
   "metadata": {},
   "source": [
    "### Make first pitch to generate sets of Q&As"
   ]
  },
  {
   "cell_type": "code",
   "execution_count": 7,
   "id": "d6703c77-856e-49de-9963-aa9a4808e104",
   "metadata": {},
   "outputs": [],
   "source": [
    "from langchain_community.document_loaders import PyPDFLoader\n",
    "from langgraph.graph import START, END, StateGraph\n",
    "from langgraph.checkpoint.memory import MemorySaver\n",
    "from langchain_core.messages import AIMessage, HumanMessage, SystemMessage\n",
    "from IPython.display import Image, display\n",
    "\n",
    "instructions = \"\"\"You are an expert cram school teacher/professor. \n",
    "\n",
    "Your goal is providing questions, answers and its explanations so students can prepare for the specific subject's exam. Follow these instructions carefully:\n",
    "\n",
    "1. First, review the subject:\n",
    "{subject}\n",
    "        \n",
    "2. Review the provided sets of documents.\n",
    "{documents}\n",
    "    \n",
    "3. Determine probable contents to be imposed in the exam based upon the documents.\n",
    "                    \n",
    "4. Produce {num} sets of questions, answers and explanations.\"\"\"\n",
    "\n",
    "\n",
    "# Nodes\n",
    "def create_prep(state: State):\n",
    "    \"\"\"Generate sets of questions & explanations\"\"\"\n",
    "\n",
    "    pdf_file = state.get(\"pdf_file\")\n",
    "    subject = state[\"subject\"]\n",
    "    num = state[\"num\"]\n",
    "\n",
    "    # load pdf files\n",
    "    loader = PyPDFLoader(pdf_file)\n",
    "    docs = []\n",
    "    for page in loader.lazy_load():\n",
    "        docs.append(page.page_content)\n",
    "\n",
    "    # Force structured output\n",
    "    structured_llm = llm.with_structured_output(Perspectives)\n",
    "\n",
    "    # System message\n",
    "    system_message = instructions.format(subject=subject, documents=docs, num=num)\n",
    "\n",
    "    # Generate preps\n",
    "    preps = structured_llm.invoke(\n",
    "        [SystemMessage(content=system_message)]\n",
    "        + [HumanMessage(content=\"Generate sets of questions and its explanations.\")]\n",
    "    )\n",
    "    # Write the list of preps to state\n",
    "    return {\"preps\": preps.preps}"
   ]
  },
  {
   "cell_type": "markdown",
   "id": "e70d4eaf-d8f7-457c-8945-811bfc59c220",
   "metadata": {},
   "source": [
    "### Human feedback which interrupts on a certain point of this entire workflow"
   ]
  },
  {
   "cell_type": "code",
   "execution_count": 8,
   "id": "9186b056-64ef-4ce3-a042-5b603007d628",
   "metadata": {},
   "outputs": [],
   "source": [
    "def human_feedback_check(state: State):\n",
    "    \"\"\"No-op node that should be interrupted on\"\"\"\n",
    "    pass"
   ]
  },
  {
   "cell_type": "markdown",
   "id": "cdc16922-2dbe-4322-9301-d04b89269896",
   "metadata": {},
   "source": [
    "### 1 - Web search to eonforce the sets of Q&As"
   ]
  },
  {
   "cell_type": "code",
   "execution_count": 17,
   "id": "3e0cc832-578a-4e69-a2d9-a2d515e1d2d5",
   "metadata": {},
   "outputs": [],
   "source": [
    "search_instructions = \"\"\"You will be given sets of questions and answers with explanation for the exam. \n",
    "{sets}\n",
    "\n",
    "Your goal is to generate a well-structured query for use in retrieval and / or web-search related to the exam.\n",
    "        \n",
    "First, analyze the sets of the questions and answers with solutions.\n",
    "\n",
    "Convert this sets into a well-structured web search query to check if the answers and solutions are correct and updated.\"\"\"\n",
    "\n",
    "# Web search tool\n",
    "from langchain_community.tools.tavily_search import TavilySearchResults\n",
    "\n",
    "tavily_search = TavilySearchResults(max_results=5, include_answer=True, search_depth=\"Advanced\")\n",
    "\n",
    "\n",
    "def search_web(state: State):\n",
    "    \"\"\"Retrieve docs from web search\"\"\"\n",
    "\n",
    "    preps = state[\"preps\"]\n",
    "\n",
    "    system_message = search_instructions.format(sets=preps)\n",
    "    structured_llm = llm.with_structured_output(SearchQuery)\n",
    "    search_query = structured_llm.invoke([SystemMessage(content=system_message)])\n",
    "\n",
    "    # Search docs\n",
    "    search_docs = tavily_search.invoke(search_query.search_query)\n",
    "\n",
    "    formatted_search_docs = [\"\\n--------------\\n\".join(doc) for doc in search_docs]\n",
    "\n",
    "    return {\"context\": formatted_search_docs}"
   ]
  },
  {
   "cell_type": "markdown",
   "id": "3dff9c3c-1b43-4b78-b433-069b23d6f1ba",
   "metadata": {},
   "source": [
    "### 2 - RAG functionality to enforce the sets of Q&As aligned by input document"
   ]
  },
  {
   "cell_type": "code",
   "execution_count": 10,
   "id": "a6c1f116-f4de-45bc-b774-5a17d99eb35e",
   "metadata": {},
   "outputs": [],
   "source": [
    "def search_rag(state: State):\n",
    "    \"\"\"Retrieve docs from vector store\"\"\"\n",
    "\n",
    "    from langchain_openai import OpenAIEmbeddings\n",
    "    from langchain_core.vectorstores import InMemoryVectorStore\n",
    "    from langchain_text_splitters import RecursiveCharacterTextSplitter\n",
    "\n",
    "    embeddings = OpenAIEmbeddings(model=\"text-embedding-3-small\")\n",
    "    vector_store = InMemoryVectorStore(embeddings)\n",
    "\n",
    "    pdf_file = state[\"pdf_file\"]\n",
    "    preps = state[\"preps\"]\n",
    "    # load pdf files\n",
    "    loader = PyPDFLoader(pdf_file)\n",
    "    docs = loader.load()\n",
    "\n",
    "    text_splitter = RecursiveCharacterTextSplitter(chunk_size=500, chunk_overlap=50)\n",
    "    splitted_docs = text_splitter.split_documents(docs)\n",
    "\n",
    "    vector_store.add_documents(splitted_docs)\n",
    "\n",
    "    # Retrieve docs\n",
    "    retrieved_docs = vector_store.similarity_search(str(preps))\n",
    "\n",
    "    return {\"context\": [retrieved_docs]}"
   ]
  },
  {
   "cell_type": "markdown",
   "id": "7515534c-50fe-4546-a3e0-0d1c1defab20",
   "metadata": {},
   "source": [
    "### Last step to finish the sets of Q&As and make agentic workflow"
   ]
  },
  {
   "cell_type": "code",
   "execution_count": 18,
   "id": "ea323bbf-04d4-46f0-b157-87732a1da64f",
   "metadata": {},
   "outputs": [
    {
     "data": {
      "image/png": "[encoded data removed]",
      "text/plain": [
       "<IPython.core.display.Image object>"
      ]
     },
     "metadata": {},
     "output_type": "display_data"
    }
   ],
   "source": [
    "explanation_instructions = \"\"\"You are an expert in the field of given subject.\n",
    "\n",
    "Here is area of focus: {subject}.\n",
    "\n",
    "Here are the sets of question & answer with solution:\n",
    "Sets: {sets}\n",
    "\n",
    "You don't have to update the questions and answers if the information are accurate and adequate for user's demand.\n",
    "        \n",
    "You goal is to refine the explanation about the corresponding answer so everyone can undestand and the information gets updated.\n",
    "\n",
    "To explain answers, use this context:\n",
    "        \n",
    "{context}\n",
    "\n",
    "When explaning answers, follow these guidelines:\n",
    "        \n",
    "1. Use only the information provided in the context. \n",
    "        \n",
    "2. Do not introduce external information or make assumptions beyond what is explicitly stated in the context.\n",
    "\n",
    "3. You can include graphs or images in your explanation next to any relevant statements.\n",
    "\n",
    "4. The explanation must be well structured which make sense visually.\"\"\"\n",
    "\n",
    "\n",
    "def refine_explanation(state: State):\n",
    "    \"\"\"Node to refine Q&As and explanation\"\"\"\n",
    "\n",
    "    # Get state\n",
    "    preps = state[\"preps\"]\n",
    "    subject = state[\"subject\"]\n",
    "    context = state[\"context\"]\n",
    "\n",
    "    # Answer question\n",
    "    system_message = explanation_instructions.format(\n",
    "        subject=subject, sets=preps, context=context\n",
    "    )\n",
    "    structured_llm = llm.with_structured_output(Perspectives)\n",
    "\n",
    "    refined_preps = structured_llm.invoke(\n",
    "        [SystemMessage(content=system_message)]\n",
    "        + [HumanMessage(content=\"Reproduce Q&As with more accurate explanation.\")]\n",
    "    )\n",
    "\n",
    "    # Append it to state\n",
    "    return {\"preps\": refined_preps.preps}\n",
    "\n",
    "\n",
    "def should_continue(state: State):\n",
    "    \"\"\"Return the next node to execute\"\"\"\n",
    "\n",
    "    # Check if human feedback\n",
    "    human_feedback = state.get(\"human_feedback\", None)\n",
    "    if human_feedback:\n",
    "        return \"create_prep\"\n",
    "\n",
    "    # Otherwise\n",
    "    return \"refine_explanation\"\n",
    "\n",
    "\n",
    "# Add nodes and edges\n",
    "builder = StateGraph(State)\n",
    "builder.add_node(\"create_prep\", create_prep)\n",
    "builder.add_node(\"human_feedback_check\", human_feedback_check)\n",
    "builder.add_node(\"search_rag\", search_rag)\n",
    "builder.add_node(\"search_web\", search_web)\n",
    "builder.add_node(\"refine_explanation\", refine_explanation)\n",
    "\n",
    "builder.add_edge(START, \"create_prep\")\n",
    "builder.add_edge(\"create_prep\", \"search_rag\")\n",
    "builder.add_edge(\"create_prep\", \"search_web\")\n",
    "builder.add_edge(\"search_rag\", \"refine_explanation\")\n",
    "builder.add_edge(\"search_web\", \"refine_explanation\")\n",
    "builder.add_edge(\"refine_explanation\", \"human_feedback_check\")\n",
    "builder.add_conditional_edges(\n",
    "    \"human_feedback_check\", should_continue, [\"create_prep\", \"refine_explanation\"]\n",
    ")\n",
    "builder.add_edge(\"refine_explanation\", END)\n",
    "\n",
    "memory = MemorySaver()\n",
    "graph = builder.compile(interrupt_before=[\"human_feedback_check\"], checkpointer=memory)\n",
    "\n",
    "\n",
    "# View\n",
    "display(Image(graph.get_graph(xray=1).draw_mermaid_png()))"
   ]
  },
  {
   "cell_type": "markdown",
   "id": "9572a909-1712-4916-88d6-fb58d2a42c7f",
   "metadata": {},
   "source": [
    "### Check out the results of workflow"
   ]
  },
  {
   "cell_type": "code",
   "execution_count": 19,
   "id": "e22aec83-3986-4816-9d32-13453409d3ad",
   "metadata": {},
   "outputs": [
    {
     "name": "stdout",
     "output_type": "stream",
     "text": [
      "Question: What are the main versions of CSS and their significance?\n",
      "Answer: The main versions of CSS are CSS1, CSS2, and CSS3. CSS1 was the first version and is no longer supported by W3C. CSS2 expanded the features of CSS1, adding more functionalities. CSS3 further modularized the specification and introduced additional features.\n",
      "Explanation: CSS1 was the initial attempt to bring order to web styling, but it lacked support and features. CSS2 built upon this foundation, allowing for more complex styles and layouts. CSS3 is significant because it modularized the specification, making it easier to implement and extend, and introduced new capabilities like animations and transitions.\n",
      "--------------------------------------------------\n",
      "Question: How do you associate a CSS stylesheet with an HTML document?\n",
      "Answer: You can associate a CSS stylesheet with an HTML document using the <link> or <style> tags within the <head> section of the HTML document.\n",
      "Explanation: The <link> tag is used to link an external CSS file, while the <style> tag is used to include internal CSS directly within the HTML document. Both methods allow the browser to apply the defined styles to the HTML elements.\n",
      "--------------------------------------------------\n",
      "Question: What is the CSS box model and what are its components?\n",
      "Answer: The CSS box model treats every element as a rectangular box that consists of margins, borders, padding, and the actual content.\n",
      "Explanation: Understanding the box model is crucial for layout design in CSS. The content is the innermost part, surrounded by padding (the space between the content and the border), the border itself, and finally the margin (the space outside the border). This model helps in controlling the spacing and layout of elements on a webpage.\n",
      "--------------------------------------------------\n",
      "Question: What is the difference between 'display: block' and 'display: inline'?\n",
      "Answer: 'display: block' makes an element take up the full width available, starting on a new line, while 'display: inline' allows elements to flow within the text without breaking the line.\n",
      "Explanation: Block elements are typically used for structural elements like paragraphs and divs, while inline elements are used for smaller elements like spans and links. Understanding these properties helps in controlling how elements are displayed and interact with each other in the layout.\n",
      "--------------------------------------------------\n",
      "Question: What are the different positioning methods in CSS?\n",
      "Answer: The different positioning methods in CSS are static, relative, absolute, fixed, and sticky.\n",
      "Explanation: Each positioning method affects how an element is placed in relation to its normal position or the viewport. Static is the default positioning, relative allows for slight adjustments, absolute positions an element based on its nearest positioned ancestor, fixed positions it relative to the viewport, and sticky allows an element to toggle between relative and fixed based on the scroll position.\n",
      "--------------------------------------------------\n"
     ]
    },
    {
     "ename": "AttributeError",
     "evalue": "'str' object has no attribute 'content'",
     "output_type": "error",
     "traceback": [
      "\u001b[0;31m---------------------------------------------------------------------------\u001b[0m",
      "\u001b[0;31mAttributeError\u001b[0m                            Traceback (most recent call last)",
      "Cell \u001b[0;32mIn[19], line 13\u001b[0m\n\u001b[1;32m     10\u001b[0m thread \u001b[38;5;241m=\u001b[39m {\u001b[38;5;124m\"\u001b[39m\u001b[38;5;124mconfigurable\u001b[39m\u001b[38;5;124m\"\u001b[39m: {\u001b[38;5;124m\"\u001b[39m\u001b[38;5;124mthread_id\u001b[39m\u001b[38;5;124m\"\u001b[39m: \u001b[38;5;124m\"\u001b[39m\u001b[38;5;124m1\u001b[39m\u001b[38;5;124m\"\u001b[39m}}\n\u001b[1;32m     12\u001b[0m \u001b[38;5;66;03m# Run the graph until the first interruption\u001b[39;00m\n\u001b[0;32m---> 13\u001b[0m \u001b[38;5;28;43;01mfor\u001b[39;49;00m\u001b[43m \u001b[49m\u001b[43mevent\u001b[49m\u001b[43m \u001b[49m\u001b[38;5;129;43;01min\u001b[39;49;00m\u001b[43m \u001b[49m\u001b[43mgraph\u001b[49m\u001b[38;5;241;43m.\u001b[39;49m\u001b[43mstream\u001b[49m\u001b[43m(\u001b[49m\n\u001b[1;32m     14\u001b[0m \u001b[43m    \u001b[49m\u001b[43m{\u001b[49m\u001b[38;5;124;43m\"\u001b[39;49m\u001b[38;5;124;43msubject\u001b[39;49m\u001b[38;5;124;43m\"\u001b[39;49m\u001b[43m:\u001b[49m\u001b[43m \u001b[49m\u001b[43msubject\u001b[49m\u001b[43m,\u001b[49m\u001b[43m \u001b[49m\u001b[38;5;124;43m\"\u001b[39;49m\u001b[38;5;124;43mpdf_file\u001b[39;49m\u001b[38;5;124;43m\"\u001b[39;49m\u001b[43m:\u001b[49m\u001b[43m \u001b[49m\u001b[43mpath\u001b[49m\u001b[43m,\u001b[49m\u001b[43m \u001b[49m\u001b[38;5;124;43m\"\u001b[39;49m\u001b[38;5;124;43mnum\u001b[39;49m\u001b[38;5;124;43m\"\u001b[39;49m\u001b[43m:\u001b[49m\u001b[43m \u001b[49m\u001b[38;5;241;43m2\u001b[39;49m\u001b[43m}\u001b[49m\u001b[43m,\u001b[49m\u001b[43m \u001b[49m\u001b[43mthread\u001b[49m\u001b[43m,\u001b[49m\u001b[43m \u001b[49m\u001b[43mstream_mode\u001b[49m\u001b[38;5;241;43m=\u001b[39;49m\u001b[38;5;124;43m\"\u001b[39;49m\u001b[38;5;124;43mvalues\u001b[39;49m\u001b[38;5;124;43m\"\u001b[39;49m\n\u001b[1;32m     15\u001b[0m \u001b[43m)\u001b[49m\u001b[43m:\u001b[49m\n\u001b[1;32m     16\u001b[0m \u001b[43m    \u001b[49m\u001b[38;5;66;43;03m# Review\u001b[39;49;00m\n\u001b[1;32m     17\u001b[0m \u001b[43m    \u001b[49m\u001b[43mpreps\u001b[49m\u001b[43m \u001b[49m\u001b[38;5;241;43m=\u001b[39;49m\u001b[43m \u001b[49m\u001b[43mevent\u001b[49m\u001b[38;5;241;43m.\u001b[39;49m\u001b[43mget\u001b[49m\u001b[43m(\u001b[49m\u001b[38;5;124;43m\"\u001b[39;49m\u001b[38;5;124;43mpreps\u001b[39;49m\u001b[38;5;124;43m\"\u001b[39;49m\u001b[43m,\u001b[49m\u001b[43m \u001b[49m\u001b[43m[\u001b[49m\u001b[43m]\u001b[49m\u001b[43m)\u001b[49m\n\u001b[1;32m     18\u001b[0m \u001b[43m    \u001b[49m\u001b[38;5;28;43;01mif\u001b[39;49;00m\u001b[43m \u001b[49m\u001b[43mpreps\u001b[49m\u001b[43m:\u001b[49m\n",
      "File \u001b[0;32m~/Projects/python/llms/langchain-academy/lc-academy-env/lib/python3.13/site-packages/langgraph/pregel/__init__.py:2024\u001b[0m, in \u001b[0;36mPregel.stream\u001b[0;34m(self, input, config, stream_mode, output_keys, interrupt_before, interrupt_after, debug, subgraphs)\u001b[0m\n\u001b[1;32m   2018\u001b[0m     \u001b[38;5;66;03m# Similarly to Bulk Synchronous Parallel / Pregel model\u001b[39;00m\n\u001b[1;32m   2019\u001b[0m     \u001b[38;5;66;03m# computation proceeds in steps, while there are channel updates.\u001b[39;00m\n\u001b[1;32m   2020\u001b[0m     \u001b[38;5;66;03m# Channel updates from step N are only visible in step N+1\u001b[39;00m\n\u001b[1;32m   2021\u001b[0m     \u001b[38;5;66;03m# channels are guaranteed to be immutable for the duration of the step,\u001b[39;00m\n\u001b[1;32m   2022\u001b[0m     \u001b[38;5;66;03m# with channel updates applied only at the transition between steps.\u001b[39;00m\n\u001b[1;32m   2023\u001b[0m     \u001b[38;5;28;01mwhile\u001b[39;00m loop\u001b[38;5;241m.\u001b[39mtick(input_keys\u001b[38;5;241m=\u001b[39m\u001b[38;5;28mself\u001b[39m\u001b[38;5;241m.\u001b[39minput_channels):\n\u001b[0;32m-> 2024\u001b[0m \u001b[43m        \u001b[49m\u001b[38;5;28;43;01mfor\u001b[39;49;00m\u001b[43m \u001b[49m\u001b[43m_\u001b[49m\u001b[43m \u001b[49m\u001b[38;5;129;43;01min\u001b[39;49;00m\u001b[43m \u001b[49m\u001b[43mrunner\u001b[49m\u001b[38;5;241;43m.\u001b[39;49m\u001b[43mtick\u001b[49m\u001b[43m(\u001b[49m\n\u001b[1;32m   2025\u001b[0m \u001b[43m            \u001b[49m\u001b[43mloop\u001b[49m\u001b[38;5;241;43m.\u001b[39;49m\u001b[43mtasks\u001b[49m\u001b[38;5;241;43m.\u001b[39;49m\u001b[43mvalues\u001b[49m\u001b[43m(\u001b[49m\u001b[43m)\u001b[49m\u001b[43m,\u001b[49m\n\u001b[1;32m   2026\u001b[0m \u001b[43m            \u001b[49m\u001b[43mtimeout\u001b[49m\u001b[38;5;241;43m=\u001b[39;49m\u001b[38;5;28;43mself\u001b[39;49m\u001b[38;5;241;43m.\u001b[39;49m\u001b[43mstep_timeout\u001b[49m\u001b[43m,\u001b[49m\n\u001b[1;32m   2027\u001b[0m \u001b[43m            \u001b[49m\u001b[43mretry_policy\u001b[49m\u001b[38;5;241;43m=\u001b[39;49m\u001b[38;5;28;43mself\u001b[39;49m\u001b[38;5;241;43m.\u001b[39;49m\u001b[43mretry_policy\u001b[49m\u001b[43m,\u001b[49m\n\u001b[1;32m   2028\u001b[0m \u001b[43m            \u001b[49m\u001b[43mget_waiter\u001b[49m\u001b[38;5;241;43m=\u001b[39;49m\u001b[43mget_waiter\u001b[49m\u001b[43m,\u001b[49m\n\u001b[1;32m   2029\u001b[0m \u001b[43m        \u001b[49m\u001b[43m)\u001b[49m\u001b[43m:\u001b[49m\n\u001b[1;32m   2030\u001b[0m \u001b[43m            \u001b[49m\u001b[38;5;66;43;03m# emit output\u001b[39;49;00m\n\u001b[1;32m   2031\u001b[0m \u001b[43m            \u001b[49m\u001b[38;5;28;43;01myield from\u001b[39;49;00m\u001b[43m \u001b[49m\u001b[43moutput\u001b[49m\u001b[43m(\u001b[49m\u001b[43m)\u001b[49m\n\u001b[1;32m   2032\u001b[0m \u001b[38;5;66;03m# emit output\u001b[39;00m\n",
      "File \u001b[0;32m~/Projects/python/llms/langchain-academy/lc-academy-env/lib/python3.13/site-packages/langgraph/pregel/runner.py:302\u001b[0m, in \u001b[0;36mPregelRunner.tick\u001b[0;34m(self, tasks, reraise, timeout, retry_policy, get_waiter)\u001b[0m\n\u001b[1;32m    300\u001b[0m \u001b[38;5;28;01myield\u001b[39;00m\n\u001b[1;32m    301\u001b[0m \u001b[38;5;66;03m# panic on failure or timeout\u001b[39;00m\n\u001b[0;32m--> 302\u001b[0m \u001b[43m_panic_or_proceed\u001b[49m\u001b[43m(\u001b[49m\n\u001b[1;32m    303\u001b[0m \u001b[43m    \u001b[49m\u001b[43mfutures\u001b[49m\u001b[38;5;241;43m.\u001b[39;49m\u001b[43mdone\u001b[49m\u001b[38;5;241;43m.\u001b[39;49m\u001b[43munion\u001b[49m\u001b[43m(\u001b[49m\u001b[43mf\u001b[49m\u001b[43m \u001b[49m\u001b[38;5;28;43;01mfor\u001b[39;49;00m\u001b[43m \u001b[49m\u001b[43mf\u001b[49m\u001b[43m,\u001b[49m\u001b[43m \u001b[49m\u001b[43mt\u001b[49m\u001b[43m \u001b[49m\u001b[38;5;129;43;01min\u001b[39;49;00m\u001b[43m \u001b[49m\u001b[43mfutures\u001b[49m\u001b[38;5;241;43m.\u001b[39;49m\u001b[43mitems\u001b[49m\u001b[43m(\u001b[49m\u001b[43m)\u001b[49m\u001b[43m \u001b[49m\u001b[38;5;28;43;01mif\u001b[39;49;00m\u001b[43m \u001b[49m\u001b[43mt\u001b[49m\u001b[43m \u001b[49m\u001b[38;5;129;43;01mis\u001b[39;49;00m\u001b[43m \u001b[49m\u001b[38;5;129;43;01mnot\u001b[39;49;00m\u001b[43m \u001b[49m\u001b[38;5;28;43;01mNone\u001b[39;49;00m\u001b[43m)\u001b[49m\u001b[43m,\u001b[49m\n\u001b[1;32m    304\u001b[0m \u001b[43m    \u001b[49m\u001b[43mpanic\u001b[49m\u001b[38;5;241;43m=\u001b[39;49m\u001b[43mreraise\u001b[49m\u001b[43m,\u001b[49m\n\u001b[1;32m    305\u001b[0m \u001b[43m\u001b[49m\u001b[43m)\u001b[49m\n",
      "File \u001b[0;32m~/Projects/python/llms/langchain-academy/lc-academy-env/lib/python3.13/site-packages/langgraph/pregel/runner.py:619\u001b[0m, in \u001b[0;36m_panic_or_proceed\u001b[0;34m(futs, timeout_exc_cls, panic)\u001b[0m\n\u001b[1;32m    617\u001b[0m         \u001b[38;5;66;03m# raise the exception\u001b[39;00m\n\u001b[1;32m    618\u001b[0m         \u001b[38;5;28;01mif\u001b[39;00m panic:\n\u001b[0;32m--> 619\u001b[0m             \u001b[38;5;28;01mraise\u001b[39;00m exc\n\u001b[1;32m    620\u001b[0m \u001b[38;5;28;01mif\u001b[39;00m inflight:\n\u001b[1;32m    621\u001b[0m     \u001b[38;5;66;03m# if we got here means we timed out\u001b[39;00m\n\u001b[1;32m    622\u001b[0m     \u001b[38;5;28;01mwhile\u001b[39;00m inflight:\n\u001b[1;32m    623\u001b[0m         \u001b[38;5;66;03m# cancel all pending tasks\u001b[39;00m\n",
      "File \u001b[0;32m~/Projects/python/llms/langchain-academy/lc-academy-env/lib/python3.13/site-packages/langgraph/pregel/executor.py:83\u001b[0m, in \u001b[0;36mBackgroundExecutor.done\u001b[0;34m(self, task)\u001b[0m\n\u001b[1;32m     81\u001b[0m \u001b[38;5;250m\u001b[39m\u001b[38;5;124;03m\"\"\"Remove the task from the tasks dict when it's done.\"\"\"\u001b[39;00m\n\u001b[1;32m     82\u001b[0m \u001b[38;5;28;01mtry\u001b[39;00m:\n\u001b[0;32m---> 83\u001b[0m     \u001b[43mtask\u001b[49m\u001b[38;5;241;43m.\u001b[39;49m\u001b[43mresult\u001b[49m\u001b[43m(\u001b[49m\u001b[43m)\u001b[49m\n\u001b[1;32m     84\u001b[0m \u001b[38;5;28;01mexcept\u001b[39;00m GraphBubbleUp:\n\u001b[1;32m     85\u001b[0m     \u001b[38;5;66;03m# This exception is an interruption signal, not an error\u001b[39;00m\n\u001b[1;32m     86\u001b[0m     \u001b[38;5;66;03m# so we don't want to re-raise it on exit\u001b[39;00m\n\u001b[1;32m     87\u001b[0m     \u001b[38;5;28mself\u001b[39m\u001b[38;5;241m.\u001b[39mtasks\u001b[38;5;241m.\u001b[39mpop(task)\n",
      "File \u001b[0;32m/opt/homebrew/Cellar/python@3.13/3.13.1/Frameworks/Python.framework/Versions/3.13/lib/python3.13/concurrent/futures/_base.py:449\u001b[0m, in \u001b[0;36mFuture.result\u001b[0;34m(self, timeout)\u001b[0m\n\u001b[1;32m    447\u001b[0m     \u001b[38;5;28;01mraise\u001b[39;00m CancelledError()\n\u001b[1;32m    448\u001b[0m \u001b[38;5;28;01melif\u001b[39;00m \u001b[38;5;28mself\u001b[39m\u001b[38;5;241m.\u001b[39m_state \u001b[38;5;241m==\u001b[39m FINISHED:\n\u001b[0;32m--> 449\u001b[0m     \u001b[38;5;28;01mreturn\u001b[39;00m \u001b[38;5;28;43mself\u001b[39;49m\u001b[38;5;241;43m.\u001b[39;49m\u001b[43m__get_result\u001b[49m\u001b[43m(\u001b[49m\u001b[43m)\u001b[49m\n\u001b[1;32m    451\u001b[0m \u001b[38;5;28mself\u001b[39m\u001b[38;5;241m.\u001b[39m_condition\u001b[38;5;241m.\u001b[39mwait(timeout)\n\u001b[1;32m    453\u001b[0m \u001b[38;5;28;01mif\u001b[39;00m \u001b[38;5;28mself\u001b[39m\u001b[38;5;241m.\u001b[39m_state \u001b[38;5;129;01min\u001b[39;00m [CANCELLED, CANCELLED_AND_NOTIFIED]:\n",
      "File \u001b[0;32m/opt/homebrew/Cellar/python@3.13/3.13.1/Frameworks/Python.framework/Versions/3.13/lib/python3.13/concurrent/futures/_base.py:401\u001b[0m, in \u001b[0;36mFuture.__get_result\u001b[0;34m(self)\u001b[0m\n\u001b[1;32m    399\u001b[0m \u001b[38;5;28;01mif\u001b[39;00m \u001b[38;5;28mself\u001b[39m\u001b[38;5;241m.\u001b[39m_exception:\n\u001b[1;32m    400\u001b[0m     \u001b[38;5;28;01mtry\u001b[39;00m:\n\u001b[0;32m--> 401\u001b[0m         \u001b[38;5;28;01mraise\u001b[39;00m \u001b[38;5;28mself\u001b[39m\u001b[38;5;241m.\u001b[39m_exception\n\u001b[1;32m    402\u001b[0m     \u001b[38;5;28;01mfinally\u001b[39;00m:\n\u001b[1;32m    403\u001b[0m         \u001b[38;5;66;03m# Break a reference cycle with the exception in self._exception\u001b[39;00m\n\u001b[1;32m    404\u001b[0m         \u001b[38;5;28mself\u001b[39m \u001b[38;5;241m=\u001b[39m \u001b[38;5;28;01mNone\u001b[39;00m\n",
      "File \u001b[0;32m/opt/homebrew/Cellar/python@3.13/3.13.1/Frameworks/Python.framework/Versions/3.13/lib/python3.13/concurrent/futures/thread.py:59\u001b[0m, in \u001b[0;36m_WorkItem.run\u001b[0;34m(self)\u001b[0m\n\u001b[1;32m     56\u001b[0m     \u001b[38;5;28;01mreturn\u001b[39;00m\n\u001b[1;32m     58\u001b[0m \u001b[38;5;28;01mtry\u001b[39;00m:\n\u001b[0;32m---> 59\u001b[0m     result \u001b[38;5;241m=\u001b[39m \u001b[38;5;28;43mself\u001b[39;49m\u001b[38;5;241;43m.\u001b[39;49m\u001b[43mfn\u001b[49m\u001b[43m(\u001b[49m\u001b[38;5;241;43m*\u001b[39;49m\u001b[38;5;28;43mself\u001b[39;49m\u001b[38;5;241;43m.\u001b[39;49m\u001b[43margs\u001b[49m\u001b[43m,\u001b[49m\u001b[43m \u001b[49m\u001b[38;5;241;43m*\u001b[39;49m\u001b[38;5;241;43m*\u001b[39;49m\u001b[38;5;28;43mself\u001b[39;49m\u001b[38;5;241;43m.\u001b[39;49m\u001b[43mkwargs\u001b[49m\u001b[43m)\u001b[49m\n\u001b[1;32m     60\u001b[0m \u001b[38;5;28;01mexcept\u001b[39;00m \u001b[38;5;167;01mBaseException\u001b[39;00m \u001b[38;5;28;01mas\u001b[39;00m exc:\n\u001b[1;32m     61\u001b[0m     \u001b[38;5;28mself\u001b[39m\u001b[38;5;241m.\u001b[39mfuture\u001b[38;5;241m.\u001b[39mset_exception(exc)\n",
      "File \u001b[0;32m~/Projects/python/llms/langchain-academy/lc-academy-env/lib/python3.13/site-packages/langgraph/pregel/retry.py:40\u001b[0m, in \u001b[0;36mrun_with_retry\u001b[0;34m(task, retry_policy, configurable)\u001b[0m\n\u001b[1;32m     38\u001b[0m     task\u001b[38;5;241m.\u001b[39mwrites\u001b[38;5;241m.\u001b[39mclear()\n\u001b[1;32m     39\u001b[0m     \u001b[38;5;66;03m# run the task\u001b[39;00m\n\u001b[0;32m---> 40\u001b[0m     \u001b[38;5;28;01mreturn\u001b[39;00m \u001b[43mtask\u001b[49m\u001b[38;5;241;43m.\u001b[39;49m\u001b[43mproc\u001b[49m\u001b[38;5;241;43m.\u001b[39;49m\u001b[43minvoke\u001b[49m\u001b[43m(\u001b[49m\u001b[43mtask\u001b[49m\u001b[38;5;241;43m.\u001b[39;49m\u001b[43minput\u001b[49m\u001b[43m,\u001b[49m\u001b[43m \u001b[49m\u001b[43mconfig\u001b[49m\u001b[43m)\u001b[49m\n\u001b[1;32m     41\u001b[0m \u001b[38;5;28;01mexcept\u001b[39;00m ParentCommand \u001b[38;5;28;01mas\u001b[39;00m exc:\n\u001b[1;32m     42\u001b[0m     ns: \u001b[38;5;28mstr\u001b[39m \u001b[38;5;241m=\u001b[39m config[CONF][CONFIG_KEY_CHECKPOINT_NS]\n",
      "File \u001b[0;32m~/Projects/python/llms/langchain-academy/lc-academy-env/lib/python3.13/site-packages/langgraph/utils/runnable.py:546\u001b[0m, in \u001b[0;36mRunnableSeq.invoke\u001b[0;34m(self, input, config, **kwargs)\u001b[0m\n\u001b[1;32m    542\u001b[0m config \u001b[38;5;241m=\u001b[39m patch_config(\n\u001b[1;32m    543\u001b[0m     config, callbacks\u001b[38;5;241m=\u001b[39mrun_manager\u001b[38;5;241m.\u001b[39mget_child(\u001b[38;5;124mf\u001b[39m\u001b[38;5;124m\"\u001b[39m\u001b[38;5;124mseq:step:\u001b[39m\u001b[38;5;132;01m{\u001b[39;00mi\u001b[38;5;250m \u001b[39m\u001b[38;5;241m+\u001b[39m\u001b[38;5;250m \u001b[39m\u001b[38;5;241m1\u001b[39m\u001b[38;5;132;01m}\u001b[39;00m\u001b[38;5;124m\"\u001b[39m)\n\u001b[1;32m    544\u001b[0m )\n\u001b[1;32m    545\u001b[0m \u001b[38;5;28;01mif\u001b[39;00m i \u001b[38;5;241m==\u001b[39m \u001b[38;5;241m0\u001b[39m:\n\u001b[0;32m--> 546\u001b[0m     \u001b[38;5;28minput\u001b[39m \u001b[38;5;241m=\u001b[39m \u001b[43mstep\u001b[49m\u001b[38;5;241;43m.\u001b[39;49m\u001b[43minvoke\u001b[49m\u001b[43m(\u001b[49m\u001b[38;5;28;43minput\u001b[39;49m\u001b[43m,\u001b[49m\u001b[43m \u001b[49m\u001b[43mconfig\u001b[49m\u001b[43m,\u001b[49m\u001b[43m \u001b[49m\u001b[38;5;241;43m*\u001b[39;49m\u001b[38;5;241;43m*\u001b[39;49m\u001b[43mkwargs\u001b[49m\u001b[43m)\u001b[49m\n\u001b[1;32m    547\u001b[0m \u001b[38;5;28;01melse\u001b[39;00m:\n\u001b[1;32m    548\u001b[0m     \u001b[38;5;28minput\u001b[39m \u001b[38;5;241m=\u001b[39m step\u001b[38;5;241m.\u001b[39minvoke(\u001b[38;5;28minput\u001b[39m, config)\n",
      "File \u001b[0;32m~/Projects/python/llms/langchain-academy/lc-academy-env/lib/python3.13/site-packages/langgraph/utils/runnable.py:310\u001b[0m, in \u001b[0;36mRunnableCallable.invoke\u001b[0;34m(self, input, config, **kwargs)\u001b[0m\n\u001b[1;32m    308\u001b[0m \u001b[38;5;28;01melse\u001b[39;00m:\n\u001b[1;32m    309\u001b[0m     context\u001b[38;5;241m.\u001b[39mrun(_set_config_context, config)\n\u001b[0;32m--> 310\u001b[0m     ret \u001b[38;5;241m=\u001b[39m \u001b[43mcontext\u001b[49m\u001b[38;5;241;43m.\u001b[39;49m\u001b[43mrun\u001b[49m\u001b[43m(\u001b[49m\u001b[38;5;28;43mself\u001b[39;49m\u001b[38;5;241;43m.\u001b[39;49m\u001b[43mfunc\u001b[49m\u001b[43m,\u001b[49m\u001b[43m \u001b[49m\u001b[38;5;241;43m*\u001b[39;49m\u001b[43margs\u001b[49m\u001b[43m,\u001b[49m\u001b[43m \u001b[49m\u001b[38;5;241;43m*\u001b[39;49m\u001b[38;5;241;43m*\u001b[39;49m\u001b[43mkwargs\u001b[49m\u001b[43m)\u001b[49m\n\u001b[1;32m    311\u001b[0m \u001b[38;5;28;01mif\u001b[39;00m \u001b[38;5;28misinstance\u001b[39m(ret, Runnable) \u001b[38;5;129;01mand\u001b[39;00m \u001b[38;5;28mself\u001b[39m\u001b[38;5;241m.\u001b[39mrecurse:\n\u001b[1;32m    312\u001b[0m     \u001b[38;5;28;01mreturn\u001b[39;00m ret\u001b[38;5;241m.\u001b[39minvoke(\u001b[38;5;28minput\u001b[39m, config)\n",
      "Cell \u001b[0;32mIn[17], line 28\u001b[0m, in \u001b[0;36msearch_web\u001b[0;34m(state)\u001b[0m\n\u001b[1;32m     25\u001b[0m \u001b[38;5;66;03m# Search docs\u001b[39;00m\n\u001b[1;32m     26\u001b[0m search_docs \u001b[38;5;241m=\u001b[39m tavily_search\u001b[38;5;241m.\u001b[39minvoke(search_query\u001b[38;5;241m.\u001b[39msearch_query)\n\u001b[0;32m---> 28\u001b[0m formatted_search_docs \u001b[38;5;241m=\u001b[39m [\u001b[38;5;124m\"\u001b[39m\u001b[38;5;130;01m\\n\u001b[39;00m\u001b[38;5;124m--------------\u001b[39m\u001b[38;5;130;01m\\n\u001b[39;00m\u001b[38;5;124m\"\u001b[39m\u001b[38;5;241m.\u001b[39mjoin(\u001b[43mdoc\u001b[49m\u001b[38;5;241;43m.\u001b[39;49m\u001b[43mcontent\u001b[49m) \u001b[38;5;28;01mfor\u001b[39;00m doc \u001b[38;5;129;01min\u001b[39;00m search_docs]\n\u001b[1;32m     30\u001b[0m \u001b[38;5;28;01mreturn\u001b[39;00m {\u001b[38;5;124m\"\u001b[39m\u001b[38;5;124mcontext\u001b[39m\u001b[38;5;124m\"\u001b[39m: formatted_search_docs}\n",
      "\u001b[0;31mAttributeError\u001b[0m: 'str' object has no attribute 'content'",
      "\u001b[0mDuring task with name 'search_web' and id 'db010146-348b-5d5f-6ae5-8afec440a53b'"
     ]
    }
   ],
   "source": [
    "import os\n",
    "\n",
    "subject = \"css\"\n",
    "current_path = os.getcwd()\n",
    "pdf_file = \"/css.pdf\"\n",
    "\n",
    "path = current_path + pdf_file\n",
    "\n",
    "thread = {\"configurable\": {\"thread_id\": \"1\"}}\n",
    "\n",
    "# Run the graph until the first interruption\n",
    "for event in graph.stream(\n",
    "    {\"subject\": subject, \"pdf_file\": path, \"num\": 2}, thread, stream_mode=\"values\"\n",
    "):\n",
    "    # Review\n",
    "    preps = event.get(\"preps\", [])\n",
    "    if preps:\n",
    "        for prep in preps:\n",
    "            print(f\"Question: {prep.question}\")\n",
    "            print(f\"Answer: {prep.answer}\")\n",
    "            print(f\"Explanation: {prep.explanation}\")\n",
    "            print(\"-\" * 50)"
   ]
  },
  {
   "cell_type": "markdown",
   "id": "988ed68e-80ea-422e-8d83-617ee4bce27b",
   "metadata": {},
   "source": [
    "### Human feedback section"
   ]
  },
  {
   "cell_type": "code",
   "execution_count": 13,
   "id": "b56154dc-62b2-4502-aaa1-70d3fee7fc5c",
   "metadata": {},
   "outputs": [
    {
     "data": {
      "text/plain": [
       "{'configurable': {'thread_id': '1',\n",
       "  'checkpoint_ns': '',\n",
       "  'checkpoint_id': '1effc2af-63e9-6054-8004-49a67c8486ef'}}"
      ]
     },
     "execution_count": 13,
     "metadata": {},
     "output_type": "execute_result"
    }
   ],
   "source": [
    "graph.update_state(\n",
    "    thread,\n",
    "    {\"human_feedback\": \"Make more difficult questions and give me 2 questions\"},\n",
    "    as_node=\"human_feedback_check\",\n",
    ")"
   ]
  },
  {
   "cell_type": "markdown",
   "id": "8471668d-9edc-43ca-b267-028a41fd6b13",
   "metadata": {},
   "source": [
    "### Stream the results"
   ]
  },
  {
   "cell_type": "code",
   "execution_count": 14,
   "id": "a5115fa0-bf13-4538-a46e-30a47c65dfda",
   "metadata": {},
   "outputs": [
    {
     "name": "stdout",
     "output_type": "stream",
     "text": [
      "Question: What are the main versions of CSS and their significance?\n",
      "Answer: CSS1, CSS2, and CSS3 are the main versions of CSS.\n",
      "Explanation: CSS1 was the first version of Cascading Style Sheets, introduced to bring structure and style to web documents, but it is no longer supported by the W3C. CSS2 built upon CSS1 by adding more features and functionalities, allowing for greater control over layout and presentation. CSS3 further advanced the language by introducing modular specifications, which means that different features can be developed and updated independently, providing more flexibility and enabling the addition of new capabilities.\n",
      "--------------------------------------------------\n",
      "Question: How can a CSS stylesheet be associated with an HTML document?\n",
      "Answer: A CSS stylesheet can be associated with an HTML document using the <style> or <link> tags within the <head> section.\n",
      "Explanation: The <style> tag allows you to write CSS rules directly within the HTML document, making it easy to apply styles without needing an external file. On the other hand, the <link> tag is used to connect to an external CSS file, which is beneficial for maintaining a clean HTML structure and reusing styles across multiple pages.\n",
      "--------------------------------------------------\n",
      "Question: What is the purpose of the universal selector in CSS?\n",
      "Answer: The universal selector, represented by '*', selects all elements in a document.\n",
      "Explanation: The universal selector is a powerful tool in CSS that applies styles to every element on a webpage. This can be particularly useful for setting default styles, such as margins or font sizes, across all elements without needing to specify each one individually.\n",
      "--------------------------------------------------\n",
      "Question: What is the box model in CSS?\n",
      "Answer: The box model in CSS treats every element as a rectangular box that can have margins, borders, padding, and content.\n",
      "Explanation: Understanding the box model is essential for web design, as it defines how elements are displayed and interact with each other. Each box consists of the content area, surrounded by padding (space between content and border), border (the edge of the box), and margin (space outside the border). This model helps in managing layout and spacing effectively.\n",
      "--------------------------------------------------\n",
      "Question: What are the different positioning methods available in CSS?\n",
      "Answer: The different positioning methods in CSS are normal, relative, absolute, and float.\n",
      "Explanation: Each positioning method affects how elements are placed on a webpage. Normal positioning follows the document flow, placing elements in the order they appear. Relative positioning allows you to adjust an element's position relative to its normal position. Absolute positioning removes the element from the document flow and positions it relative to its nearest positioned ancestor. Float positioning allows elements to be placed to the left or right, enabling text and inline elements to wrap around them.\n",
      "--------------------------------------------------\n",
      "Question: What is the difference between 'visibility: hidden' and 'display: none' in CSS?\n",
      "Answer: 'visibility: hidden' hides an element but reserves its space, while 'display: none' removes the element from the document flow entirely.\n",
      "Explanation: This distinction is crucial for layout management. When an element is set to 'visibility: hidden', it is not visible, but the space it occupies remains, preventing other elements from shifting. In contrast, 'display: none' completely removes the element from the layout, which can cause surrounding elements to adjust and fill the space.\n",
      "--------------------------------------------------\n",
      "Question: How can colors be specified in CSS?\n",
      "Answer: Colors in CSS can be specified using various methods, including RGB, HEX, and color names.\n",
      "Explanation: CSS provides multiple ways to define colors. RGB (Red, Green, Blue) allows for a wide range of colors by combining different intensities of red, green, and blue. HEX is a hexadecimal representation of colors, commonly used in web design. Additionally, CSS supports named colors, which are predefined color values that can be used directly.\n",
      "--------------------------------------------------\n",
      "Question: What are the properties of text in CSS?\n",
      "Answer: CSS provides properties to control font type, size, color, spacing, and alignment of text.\n",
      "Explanation: These text properties enable detailed customization of how text appears on a webpage. You can specify the font family, size, and color to enhance readability and aesthetics. Additionally, properties like line height, letter spacing, and text alignment allow for further refinement of text presentation.\n",
      "--------------------------------------------------\n",
      "Question: What is the significance of the 'float' property in CSS?\n",
      "Answer: The 'float' property allows elements to be positioned to the left or right of their container, enabling text and inline elements to wrap around them.\n",
      "Explanation: The float property is commonly used in layout design, allowing for creative arrangements of elements. For example, you can float an image to the left or right, allowing text to flow around it, which is useful for creating visually appealing layouts such as sidebars or image placements within paragraphs.\n",
      "--------------------------------------------------\n",
      "Question: What are the five font families available in CSS?\n",
      "Answer: The five font families in CSS are sans-serif, serif, monospace, cursive, and fantasy.\n",
      "Explanation: Each font family has unique characteristics that influence the appearance of text. Sans-serif fonts, like Arial and Helvetica, have clean lines without decorative elements. Serif fonts, such as Times New Roman, feature small lines at the ends of characters, adding a traditional look. Monospace fonts, like Courier, have fixed widths for each character, making them ideal for code. Cursive fonts resemble handwritten text, while fantasy fonts are decorative and often used for artistic purposes.\n",
      "--------------------------------------------------\n",
      "Question: What are the main versions of CSS and their significance?\n",
      "Answer: CSS1, CSS2, and CSS3 are the main versions of CSS.\n",
      "Explanation: CSS1 was the first version and is no longer supported by W3C. CSS2 expanded the features of CSS1, adding more functionalities. CSS3 introduced modular specifications, allowing for more flexibility and new features.\n",
      "--------------------------------------------------\n",
      "Question: How can a CSS stylesheet be associated with an HTML document?\n",
      "Answer: A CSS stylesheet can be associated with an HTML document using the <style> or <link> tags within the <head> section.\n",
      "Explanation: The <style> tag allows you to include CSS directly within the HTML document, while the <link> tag is used to link to an external CSS file.\n",
      "--------------------------------------------------\n",
      "Question: What is the purpose of the universal selector (*) in CSS?\n",
      "Answer: The universal selector (*) selects all elements in a document.\n",
      "Explanation: It is used when you want to apply a style to every element without specifying each one individually.\n",
      "--------------------------------------------------\n",
      "Question: What is the box model in CSS?\n",
      "Answer: The box model in CSS treats every element as a rectangular box that can have margins, borders, padding, and content.\n",
      "Explanation: Understanding the box model is crucial for layout design, as it defines how elements are displayed and how they interact with each other in terms of spacing.\n",
      "--------------------------------------------------\n",
      "Question: What are the different positioning methods available in CSS?\n",
      "Answer: The different positioning methods in CSS are normal, relative, absolute, and float.\n",
      "Explanation: Each positioning method affects how elements are placed on the page. Normal positioning places elements in the order they appear in the document flow, while relative, absolute, and float allow for more control over their placement.\n",
      "--------------------------------------------------\n",
      "Question: What is the difference between 'visibility: hidden' and 'display: none' in CSS?\n",
      "Answer: 'visibility: hidden' hides an element but reserves its space, while 'display: none' removes the element from the document flow entirely.\n",
      "Explanation: This distinction is important for layout purposes; 'visibility: hidden' keeps the layout intact, while 'display: none' can cause other elements to shift.\n",
      "--------------------------------------------------\n",
      "Question: How can colors be specified in CSS?\n",
      "Answer: Colors in CSS can be specified using various methods, including RGB, HEX, and color names.\n",
      "Explanation: Using RGB allows for a wide range of colors by defining the red, green, and blue components, while HEX uses a hexadecimal format. Color names provide a simpler way to specify common colors.\n",
      "--------------------------------------------------\n",
      "Question: What are the properties of text in CSS?\n",
      "Answer: CSS provides properties to control font size, font family, line height, text alignment, and color.\n",
      "Explanation: These properties allow for detailed customization of how text appears on a webpage, enhancing readability and aesthetics.\n",
      "--------------------------------------------------\n",
      "Question: What is the purpose of the 'float' property in CSS?\n",
      "Answer: The 'float' property allows elements to be positioned to the left or right of their container, allowing text and inline elements to wrap around them.\n",
      "Explanation: This property is often used for layout purposes, such as creating multi-column layouts or aligning images with text.\n",
      "--------------------------------------------------\n",
      "Question: What are the five font families available in CSS?\n",
      "Answer: The five font families in CSS are sans-serif, serif, monospace, cursive, and fantasy.\n",
      "Explanation: Each font family has distinct characteristics: sans-serif fonts have no decorative lines, serif fonts have them, monospace fonts have fixed widths, cursive fonts resemble handwriting, and fantasy fonts are decorative.\n",
      "--------------------------------------------------\n",
      "Question: What are the main versions of CSS and their significance?\n",
      "Answer: CSS1, CSS2, and CSS3 are the main versions of CSS.\n",
      "Explanation: CSS1 was the first version and is no longer supported by W3C. CSS2 expanded the features of CSS1, adding more functionalities. CSS3 introduced modular specifications, allowing for more flexibility and new features.\n",
      "--------------------------------------------------\n",
      "Question: How can a CSS stylesheet be associated with an HTML document?\n",
      "Answer: A CSS stylesheet can be associated with an HTML document using the <style> or <link> tags within the <head> section.\n",
      "Explanation: The <style> tag allows you to include CSS directly within the HTML document, while the <link> tag is used to link to an external CSS file.\n",
      "--------------------------------------------------\n",
      "Question: What is the purpose of the universal selector (*) in CSS?\n",
      "Answer: The universal selector (*) selects all elements in a document.\n",
      "Explanation: It is used when you want to apply a style to every element without specifying each one individually.\n",
      "--------------------------------------------------\n",
      "Question: What is the box model in CSS?\n",
      "Answer: The box model in CSS treats every element as a rectangular box that can have margins, borders, padding, and content.\n",
      "Explanation: Understanding the box model is crucial for layout design, as it defines how elements are displayed and how they interact with each other in terms of spacing.\n",
      "--------------------------------------------------\n",
      "Question: What are the different positioning methods available in CSS?\n",
      "Answer: The different positioning methods in CSS are normal, relative, absolute, and float.\n",
      "Explanation: Each positioning method affects how elements are placed on the page. Normal positioning places elements in the order they appear in the document flow, while relative, absolute, and float allow for more control over their placement.\n",
      "--------------------------------------------------\n",
      "Question: What is the difference between 'visibility: hidden' and 'display: none' in CSS?\n",
      "Answer: 'visibility: hidden' hides an element but reserves its space, while 'display: none' removes the element from the document flow entirely.\n",
      "Explanation: This distinction is important for layout purposes; 'visibility: hidden' keeps the layout intact, while 'display: none' can cause other elements to shift.\n",
      "--------------------------------------------------\n",
      "Question: How can colors be specified in CSS?\n",
      "Answer: Colors in CSS can be specified using various methods, including RGB, HEX, and color names.\n",
      "Explanation: Using RGB allows for a wide range of colors by defining the red, green, and blue components, while HEX uses a hexadecimal format. Color names provide a simpler way to specify common colors.\n",
      "--------------------------------------------------\n",
      "Question: What are the properties of text in CSS?\n",
      "Answer: CSS provides properties to control font size, font family, line height, text alignment, and color.\n",
      "Explanation: These properties allow for detailed customization of how text appears on a webpage, enhancing readability and aesthetics.\n",
      "--------------------------------------------------\n",
      "Question: What is the purpose of the 'float' property in CSS?\n",
      "Answer: The 'float' property allows elements to be positioned to the left or right of their container, allowing text and inline elements to wrap around them.\n",
      "Explanation: This property is often used for layout purposes, such as creating multi-column layouts or aligning images with text.\n",
      "--------------------------------------------------\n",
      "Question: What are the five font families available in CSS?\n",
      "Answer: The five font families in CSS are sans-serif, serif, monospace, cursive, and fantasy.\n",
      "Explanation: Each font family has distinct characteristics: sans-serif fonts have no decorative lines, serif fonts have them, monospace fonts have fixed widths, cursive fonts resemble handwriting, and fantasy fonts are decorative.\n",
      "--------------------------------------------------\n",
      "Question: What are the main versions of CSS and their significance?\n",
      "Answer: CSS1, CSS2, and CSS3 are the main versions of CSS.\n",
      "Explanation: CSS1 was the first version of Cascading Style Sheets, introduced to bring structure and style to web documents. It is no longer supported by the W3C. CSS2 built upon CSS1 by adding more features and functionalities, allowing for greater control over layout and presentation. CSS3 further advanced the language by introducing modular specifications, which means that different features can be developed and updated independently, providing more flexibility and enabling the addition of new capabilities.\n",
      "--------------------------------------------------\n",
      "Question: How can a CSS stylesheet be associated with an HTML document?\n",
      "Answer: A CSS stylesheet can be associated with an HTML document using the <style> or <link> tags within the <head> section.\n",
      "Explanation: The <style> tag allows you to write CSS rules directly within the HTML document, which is useful for small styles or testing. The <link> tag, on the other hand, is used to link to an external CSS file, which is more efficient for larger stylesheets and promotes better organization of code.\n",
      "--------------------------------------------------\n",
      "Question: What is the purpose of the universal selector (*) in CSS?\n",
      "Answer: The universal selector (*) selects all elements in a document.\n",
      "Explanation: The universal selector is represented by an asterisk (*) and is used when you want to apply a specific style to every element on a webpage without having to specify each element individually. This can be useful for setting default styles across the entire document.\n",
      "--------------------------------------------------\n",
      "Question: What is the box model in CSS?\n",
      "Answer: The box model in CSS treats every element as a rectangular box that can have margins, borders, padding, and content.\n",
      "Explanation: Understanding the box model is essential for web design, as it defines how elements are displayed on the page. Each box consists of the content area, padding (space between the content and the border), border (the line surrounding the padding), and margin (space outside the border). This model affects how elements interact with each other in terms of spacing and layout.\n",
      "--------------------------------------------------\n",
      "Question: What are the different positioning methods available in CSS?\n",
      "Answer: The different positioning methods in CSS are normal, relative, absolute, and float.\n",
      "Explanation: Each positioning method determines how elements are placed on the page. Normal positioning follows the document flow, placing elements in the order they appear. Relative positioning allows you to adjust an element's position relative to its normal position. Absolute positioning removes the element from the document flow and positions it relative to its nearest positioned ancestor. Float positioning allows elements to be aligned to the left or right, enabling text and inline elements to wrap around them.\n",
      "--------------------------------------------------\n",
      "Question: What is the difference between 'visibility: hidden' and 'display: none' in CSS?\n",
      "Answer: 'visibility: hidden' hides an element but reserves its space, while 'display: none' removes the element from the document flow entirely.\n",
      "Explanation: This distinction is crucial for layout management. When an element is set to 'visibility: hidden', it is not visible, but the space it occupies remains, which can help maintain the layout. In contrast, 'display: none' completely removes the element from the document flow, causing other elements to shift and fill the space.\n",
      "--------------------------------------------------\n",
      "Question: How can colors be specified in CSS?\n",
      "Answer: Colors in CSS can be specified using various methods, including RGB, HEX, and color names.\n",
      "Explanation: CSS provides multiple ways to define colors. RGB (Red, Green, Blue) allows for a wide range of colors by specifying the intensity of each color component. HEX is a hexadecimal representation of colors, commonly used in web design. Additionally, CSS supports named colors, which provide a simple way to use common colors without needing to remember their RGB or HEX values.\n",
      "--------------------------------------------------\n",
      "Question: What are the properties of text in CSS?\n",
      "Answer: CSS provides properties to control font size, font family, line height, text alignment, and color.\n",
      "Explanation: These text properties allow for detailed customization of how text appears on a webpage. For example, 'font-size' controls the size of the text, 'font-family' specifies the typeface, 'line-height' adjusts the spacing between lines, 'text-align' determines the alignment of the text, and 'color' sets the text color. Together, these properties enhance readability and the overall aesthetic of the content.\n",
      "--------------------------------------------------\n",
      "Question: What is the purpose of the 'float' property in CSS?\n",
      "Answer: The 'float' property allows elements to be positioned to the left or right of their container, allowing text and inline elements to wrap around them.\n",
      "Explanation: The 'float' property is commonly used in layout design to create multi-column layouts or to align images with text. When an element is floated, it is taken out of the normal document flow, allowing surrounding content to wrap around it. This can create visually appealing designs and improve the organization of content.\n",
      "--------------------------------------------------\n",
      "Question: What are the five font families available in CSS?\n",
      "Answer: The five font families in CSS are sans-serif, serif, monospace, cursive, and fantasy.\n",
      "Explanation: Each font family has unique characteristics: \n",
      "- Sans-serif fonts (like Arial, Verdana, and Helvetica) do not have decorative lines at the ends of characters, making them clean and modern. \n",
      "- Serif fonts (like Times, Georgia, and Times New Roman) have decorative lines, which can enhance readability in printed text. \n",
      "- Monospace fonts (like Courier) have fixed widths for each character, often used for code. \n",
      "- Cursive fonts resemble handwriting (like Comic Sans), adding a personal touch. \n",
      "- Fantasy fonts are decorative and often used for artistic purposes.\n",
      "--------------------------------------------------\n"
     ]
    }
   ],
   "source": [
    "for event in graph.stream(None, thread, stream_mode=\"values\"):\n",
    "    # Review\n",
    "    preps = event.get(\"preps\", [])\n",
    "    if preps:\n",
    "        for prep in preps:\n",
    "            print(f\"Question: {prep.question}\")\n",
    "            print(f\"Answer: {prep.answer}\")\n",
    "            print(f\"Explanation: {prep.explanation}\")\n",
    "            print(\"-\" * 50)"
   ]
  },
  {
   "cell_type": "markdown",
   "id": "bf9d7785-89cf-40ce-b296-7dd9eec24b6e",
   "metadata": {},
   "source": [
    "### Check out the updated stream output"
   ]
  },
  {
   "cell_type": "code",
   "execution_count": 15,
   "id": "d404af76-6887-4a32-a012-bc77e1f8a97a",
   "metadata": {},
   "outputs": [
    {
     "name": "stdout",
     "output_type": "stream",
     "text": [
      "{'human_feedback_check': None}\n",
      "{'create_prep': {'preps': [Prep(question='What are the main versions of CSS and their significance?', answer='CSS1, CSS2, and CSS3 are the main versions of CSS.', explanation='CSS1 was the first version and is no longer supported by W3C. CSS2 expanded the features of CSS1, adding more functionalities. CSS3 introduced modular specifications, allowing for more flexibility and new features.'), Prep(question='How can a CSS stylesheet be associated with an HTML document?', answer='A CSS stylesheet can be associated with an HTML document using the <style> or <link> tags within the <head> section.', explanation='The <style> tag allows for internal CSS, while the <link> tag is used for external stylesheets. Both methods enable the browser to apply the defined styles to the HTML content.'), Prep(question='What is the CSS box model?', answer='The CSS box model treats every element as a rectangular box that can have margins, borders, padding, and content.', explanation='The box model is fundamental in CSS as it defines how elements are displayed and how they interact with each other. Margins are the outermost layer, borders are the next, followed by padding, and finally the content itself.'), Prep(question=\"What is the difference between 'display: block' and 'display: inline'?\", answer=\"'display: block' makes an element take up the full width available, starting on a new line, while 'display: inline' allows elements to flow within the content without breaking the line.\", explanation='Block elements create a new line after them, while inline elements do not. This affects how elements are arranged on the page and how they interact with surrounding elements.'), Prep(question='What are the different positioning methods in CSS?', answer='The different positioning methods in CSS are static, relative, absolute, and fixed.', explanation='Static is the default positioning method. Relative positioning allows you to move an element relative to its normal position. Absolute positioning removes the element from the document flow and positions it relative to its nearest positioned ancestor. Fixed positioning keeps the element in a fixed position relative to the viewport.'), Prep(question=\"What is the purpose of the 'clear' property in CSS?\", answer=\"The 'clear' property is used to control the behavior of floating elements, preventing elements from wrapping around floated elements.\", explanation=\"When an element is floated, other elements may flow around it. The 'clear' property can be set to 'left', 'right', or 'both' to ensure that the element does not sit next to the floated element, thus maintaining layout integrity.\"), Prep(question='How can you hide an element in CSS?', answer=\"You can hide an element using 'visibility: hidden' or 'display: none'.\", explanation=\"'visibility: hidden' hides the element but still reserves its space in the layout, while 'display: none' removes the element from the layout entirely, meaning it does not take up any space.\"), Prep(question='What are CSS selectors and give examples?', answer='CSS selectors are patterns used to select the elements you want to style. Examples include universal selector (*), type selector (div), class selector (.classname), and ID selector (#idname).', explanation='Selectors allow you to target specific elements in your HTML document to apply styles. The universal selector applies styles to all elements, while type, class, and ID selectors target specific elements based on their type, class, or ID.'), Prep(question=\"What is the significance of the 'background-color' property in CSS?\", answer=\"The 'background-color' property is used to set the background color of an element.\", explanation='This property allows you to enhance the visual appearance of elements by adding color behind the content, which can improve readability and aesthetics.'), Prep(question='What are the different units of measurement in CSS?', answer='CSS supports absolute units (like px, cm, in) and relative units (like em, rem, %).', explanation='Absolute units are fixed and do not change with the context, while relative units are based on other elements, allowing for more flexible and responsive designs.')]}}\n",
      "{'search_rag': {'context': [[Document(id='c4310ab2-d4b8-40d6-8fa6-9a3cc0197f06', metadata={'producer': 'PyPDF', 'creator': 'Google', 'creationdate': '', 'title': '2. CSS', 'source': '/Users/sotaro/Projects/python/llms/langchain-academy/class/css.pdf', 'total_pages': 65, 'page': 3, 'page_label': '4'}, page_content='1.1 Cascading style sheets (CSS)\\n- Fueron creadas para poner un poco de orden al entorno web y, por lo tanto, \\ndar forma \\n- Han salido diversas versiones:\\n- CSS1, primera versión y ya no está soportada por W3C\\n- CSS2, expande las característica de la anterior añadiendo funcionalidades\\n- CSS3,a parte de más funcionalidades, convierte la especiﬁcación en modular'), Document(id='ccc62ca7-b212-48eb-bbc8-fedb78534f82', metadata={'producer': 'PyPDF', 'creator': 'Google', 'creationdate': '', 'title': '2. CSS', 'source': '/Users/sotaro/Projects/python/llms/langchain-academy/class/css.pdf', 'total_pages': 65, 'page': 33, 'page_label': '34'}, page_content='1.1.5 Propiedades\\n- Unidades\\n- Algunas propiedades necesitan que se les especiﬁque un color o dimensiones\\n- CSS ofrece diversas alternativas para poder deﬁnir un valor'), Document(id='f8aab955-f645-4027-bb31-574d924dd2af', metadata={'producer': 'PyPDF', 'creator': 'Google', 'creationdate': '', 'title': '2. CSS', 'source': '/Users/sotaro/Projects/python/llms/langchain-academy/class/css.pdf', 'total_pages': 65, 'page': 15, 'page_label': '16'}, page_content='1.1.4 Modelo de cajas\\n- El CSS trata a todos los elementos como si estuviesen dentro de una caja \\nrectangular que envuelve el contenido\\n- En esta caja se pueden deﬁnir una serie de márgenes:\\n- padding, margen interno entre el contenido y la caja\\n- margin, margen entre la caja y otras cajas adyacentes\\n- La caja puede tener una línea alrededor llamada border'), Document(id='38bc06e1-f418-4cd4-965e-2bf2f5a2b5a2', metadata={'producer': 'PyPDF', 'creator': 'Google', 'creationdate': '', 'title': '2. CSS', 'source': '/Users/sotaro/Projects/python/llms/langchain-academy/class/css.pdf', 'total_pages': 65, 'page': 11, 'page_label': '12'}, page_content='1.1.3 Reglas CSS\\n- Universal\\n- Se representa con un “*” y sirve para seleccionar todos los elementos de un documento')]]}}\n",
      "{'search_web': {'context': ['H', 'T', 'T', 'P', 'E', 'r', 'r', 'o', 'r', '(', \"'\", '4', '0', '0', ' ', 'C', 'l', 'i', 'e', 'n', 't', ' ', 'E', 'r', 'r', 'o', 'r', ':', ' ', 'B', 'a', 'd', ' ', 'R', 'e', 'q', 'u', 'e', 's', 't', ' ', 'f', 'o', 'r', ' ', 'u', 'r', 'l', ':', ' ', 'h', 't', 't', 'p', 's', ':', '/', '/', 'a', 'p', 'i', '.', 't', 'a', 'v', 'i', 'l', 'y', '.', 'c', 'o', 'm', '/', 's', 'e', 'a', 'r', 'c', 'h', \"'\", ')']}}\n",
      "{'refine_explanation': {'preps': [Prep(question='What are the main versions of CSS and their significance?', answer='CSS1, CSS2, and CSS3 are the main versions of CSS.', explanation='CSS1 was the first version of Cascading Style Sheets, introduced to bring structure and style to web documents, but it is no longer supported by the W3C. CSS2 built upon CSS1 by adding more features and functionalities, allowing for greater control over layout and presentation. CSS3 further advanced the language by introducing modular specifications, which means that different features can be developed and updated independently, providing more flexibility and enabling the addition of new capabilities.'), Prep(question='How can a CSS stylesheet be associated with an HTML document?', answer='A CSS stylesheet can be associated with an HTML document using the <style> or <link> tags within the <head> section.', explanation='The <style> tag is used for internal CSS, allowing you to write CSS rules directly within the HTML document. In contrast, the <link> tag is used to link to an external CSS file, which keeps the styles separate from the HTML content. Both methods enable the browser to apply the defined styles to the HTML elements, ensuring a consistent look and feel across the web page.'), Prep(question='What is the CSS box model?', answer='The CSS box model treats every element as a rectangular box that can have margins, borders, padding, and content.', explanation='The box model is a fundamental concept in CSS that defines how elements are structured and displayed on a web page. Each element is represented as a box that consists of four layers: the content area (where text and images appear), padding (the space between the content and the border), border (the line surrounding the padding), and margin (the space outside the border that separates the element from others). Understanding the box model is crucial for controlling layout and spacing in web design.'), Prep(question=\"What is the difference between 'display: block' and 'display: inline'?\", answer=\"'display: block' makes an element take up the full width available, starting on a new line, while 'display: inline' allows elements to flow within the content without breaking the line.\", explanation='Block elements, such as <div> and <p>, occupy the entire width of their parent container and always start on a new line, which means they push subsequent elements to the next line. Inline elements, like <span> and <a>, only take up as much width as necessary and can sit next to other inline elements without causing line breaks. This distinction affects how elements are arranged and interact with each other on the page.'), Prep(question='What are the different positioning methods in CSS?', answer='The different positioning methods in CSS are static, relative, absolute, and fixed.', explanation=\"Static positioning is the default method, where elements are positioned according to the normal flow of the document. Relative positioning allows you to adjust an element's position relative to its original location, without affecting the layout of surrounding elements. Absolute positioning removes the element from the document flow and positions it relative to its nearest positioned ancestor, which can lead to overlapping elements. Fixed positioning keeps the element in a fixed position relative to the viewport, meaning it stays in the same place even when the page is scrolled.\"), Prep(question=\"What is the purpose of the 'clear' property in CSS?\", answer=\"The 'clear' property is used to control the behavior of floating elements, preventing elements from wrapping around floated elements.\", explanation=\"When an element is floated using the 'float' property, other elements may flow around it, which can disrupt the intended layout. The 'clear' property can be set to 'left', 'right', or 'both' to specify that the element should not be positioned next to any floated elements on the specified side. This ensures that the layout remains intact and that elements are displayed as intended.\"), Prep(question='How can you hide an element in CSS?', answer=\"You can hide an element using 'visibility: hidden' or 'display: none'.\", explanation=\"Using 'visibility: hidden' will make the element invisible, but it will still occupy space in the layout, meaning that the layout remains unchanged. On the other hand, 'display: none' completely removes the element from the layout, so it does not take up any space, which can affect the positioning of surrounding elements.\"), Prep(question='What are CSS selectors and give examples?', answer='CSS selectors are patterns used to select the elements you want to style. Examples include universal selector (*), type selector (div), class selector (.classname), and ID selector (#idname).', explanation='Selectors are essential in CSS as they allow you to target specific HTML elements to apply styles. The universal selector (*) applies styles to all elements in the document. The type selector targets elements by their tag name (e.g., <div>), the class selector targets elements with a specific class attribute (e.g., .classname), and the ID selector targets a unique element with a specific ID (e.g., #idname). This targeting enables precise styling of elements.'), Prep(question=\"What is the significance of the 'background-color' property in CSS?\", answer=\"The 'background-color' property is used to set the background color of an element.\", explanation=\"The 'background-color' property enhances the visual appearance of elements by allowing you to specify a color that appears behind the content of the element. This can improve readability and aesthetics, making the content more visually appealing and easier to engage with.\"), Prep(question='What are the different units of measurement in CSS?', answer='CSS supports absolute units (like px, cm, in) and relative units (like em, rem, %).', explanation=\"Absolute units are fixed measurements that do not change based on the context, such as pixels (px), centimeters (cm), and inches (in). Relative units, on the other hand, are based on other elements, allowing for more flexible and responsive designs. For example, 'em' and 'rem' are relative to the font size of the element or the root element, respectively, while '%' is relative to the parent element's size. This flexibility is crucial for creating responsive web designs that adapt to different screen sizes.\")]}}\n",
      "{'__interrupt__': ()}\n"
     ]
    }
   ],
   "source": [
    "for event in graph.stream(None, thread, stream_mode=\"updates\"):\n",
    "    print(event)"
   ]
  },
  {
   "cell_type": "markdown",
   "id": "dc9ec7af-cf16-48c2-a226-9df27b05caca",
   "metadata": {},
   "source": [
    "### Finish the whole workflow to make Q&As"
   ]
  },
  {
   "cell_type": "code",
   "execution_count": 16,
   "id": "4c5ada0c-7a62-4435-bcef-14835fc76944",
   "metadata": {},
   "outputs": [
    {
     "name": "stdout",
     "output_type": "stream",
     "text": [
      "Final Q&As\n",
      "Question: What are the main versions of CSS and their significance?\n",
      "Answer: CSS1, CSS2, and CSS3 are the main versions of CSS.\n",
      "Explanation: CSS1 was the first version of Cascading Style Sheets, introduced to bring structure and style to web documents, but it is no longer supported by the W3C. CSS2 built upon CSS1 by adding more features and functionalities, allowing for greater control over layout and presentation. CSS3 further advanced the language by introducing modular specifications, which means that different features can be developed and updated independently, providing more flexibility and enabling the addition of new capabilities.\n",
      "--------------------------------------------------\n",
      "Question: How can a CSS stylesheet be associated with an HTML document?\n",
      "Answer: A CSS stylesheet can be associated with an HTML document using the <style> or <link> tags within the <head> section.\n",
      "Explanation: The <style> tag is used for internal CSS, allowing you to write CSS rules directly within the HTML document. In contrast, the <link> tag is used to link to an external CSS file, which keeps the styles separate from the HTML content. Both methods enable the browser to apply the defined styles to the HTML elements, ensuring a consistent look and feel across the web page.\n",
      "--------------------------------------------------\n",
      "Question: What is the CSS box model?\n",
      "Answer: The CSS box model treats every element as a rectangular box that can have margins, borders, padding, and content.\n",
      "Explanation: The box model is a fundamental concept in CSS that defines how elements are structured and displayed on a web page. Each element is represented as a box that consists of four layers: the content area (where text and images appear), padding (the space between the content and the border), border (the line surrounding the padding), and margin (the space outside the border that separates the element from others). Understanding the box model is crucial for controlling layout and spacing in web design.\n",
      "--------------------------------------------------\n",
      "Question: What is the difference between 'display: block' and 'display: inline'?\n",
      "Answer: 'display: block' makes an element take up the full width available, starting on a new line, while 'display: inline' allows elements to flow within the content without breaking the line.\n",
      "Explanation: Block elements, such as <div> and <p>, occupy the entire width of their parent container and always start on a new line, which means they push subsequent elements to the next line. Inline elements, like <span> and <a>, only take up as much width as necessary and can sit next to other inline elements without causing line breaks. This distinction affects how elements are arranged and interact with each other on the page.\n",
      "--------------------------------------------------\n",
      "Question: What are the different positioning methods in CSS?\n",
      "Answer: The different positioning methods in CSS are static, relative, absolute, and fixed.\n",
      "Explanation: Static positioning is the default method, where elements are positioned according to the normal flow of the document. Relative positioning allows you to adjust an element's position relative to its original location, without affecting the layout of surrounding elements. Absolute positioning removes the element from the document flow and positions it relative to its nearest positioned ancestor, which can lead to overlapping elements. Fixed positioning keeps the element in a fixed position relative to the viewport, meaning it stays in the same place even when the page is scrolled.\n",
      "--------------------------------------------------\n",
      "Question: What is the purpose of the 'clear' property in CSS?\n",
      "Answer: The 'clear' property is used to control the behavior of floating elements, preventing elements from wrapping around floated elements.\n",
      "Explanation: When an element is floated using the 'float' property, other elements may flow around it, which can disrupt the intended layout. The 'clear' property can be set to 'left', 'right', or 'both' to specify that the element should not be positioned next to any floated elements on the specified side. This ensures that the layout remains intact and that elements are displayed as intended.\n",
      "--------------------------------------------------\n",
      "Question: How can you hide an element in CSS?\n",
      "Answer: You can hide an element using 'visibility: hidden' or 'display: none'.\n",
      "Explanation: Using 'visibility: hidden' will make the element invisible, but it will still occupy space in the layout, meaning that the layout remains unchanged. On the other hand, 'display: none' completely removes the element from the layout, so it does not take up any space, which can affect the positioning of surrounding elements.\n",
      "--------------------------------------------------\n",
      "Question: What are CSS selectors and give examples?\n",
      "Answer: CSS selectors are patterns used to select the elements you want to style. Examples include universal selector (*), type selector (div), class selector (.classname), and ID selector (#idname).\n",
      "Explanation: Selectors are essential in CSS as they allow you to target specific HTML elements to apply styles. The universal selector (*) applies styles to all elements in the document. The type selector targets elements by their tag name (e.g., <div>), the class selector targets elements with a specific class attribute (e.g., .classname), and the ID selector targets a unique element with a specific ID (e.g., #idname). This targeting enables precise styling of elements.\n",
      "--------------------------------------------------\n",
      "Question: What is the significance of the 'background-color' property in CSS?\n",
      "Answer: The 'background-color' property is used to set the background color of an element.\n",
      "Explanation: The 'background-color' property enhances the visual appearance of elements by allowing you to specify a color that appears behind the content of the element. This can improve readability and aesthetics, making the content more visually appealing and easier to engage with.\n",
      "--------------------------------------------------\n",
      "Question: What are the different units of measurement in CSS?\n",
      "Answer: CSS supports absolute units (like px, cm, in) and relative units (like em, rem, %).\n",
      "Explanation: Absolute units are fixed measurements that do not change based on the context, such as pixels (px), centimeters (cm), and inches (in). Relative units, on the other hand, are based on other elements, allowing for more flexible and responsive designs. For example, 'em' and 'rem' are relative to the font size of the element or the root element, respectively, while '%' is relative to the parent element's size. This flexibility is crucial for creating responsive web designs that adapt to different screen sizes.\n",
      "--------------------------------------------------\n"
     ]
    }
   ],
   "source": [
    "final_state = graph.get_state(thread)\n",
    "qas = final_state.values.get(\"preps\")\n",
    "\n",
    "print(\"Final Q&As\")\n",
    "for qa in qas:\n",
    "    print(f\"Question: {qa.question}\")\n",
    "    print(f\"Answer: {qa.answer}\")\n",
    "    print(f\"Explanation: {qa.explanation}\")\n",
    "    print(\"-\" * 50)"
   ]
  }
 ],
 "metadata": {
  "kernelspec": {
   "display_name": "Python 3 (ipykernel)",
   "language": "python",
   "name": "python3"
  },
  "language_info": {
   "codemirror_mode": {
    "name": "ipython",
    "version": 3
   },
   "file_extension": ".py",
   "mimetype": "text/x-python",
   "name": "python",
   "nbconvert_exporter": "python",
   "pygments_lexer": "ipython3",
   "version": "3.13.1"
  }
 },
 "nbformat": 4,
 "nbformat_minor": 5
}
